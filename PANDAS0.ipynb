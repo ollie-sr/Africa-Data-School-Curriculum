{
  "nbformat": 4,
  "nbformat_minor": 0,
  "metadata": {
    "colab": {
      "provenance": [],
      "authorship_tag": "ABX9TyOOYvfA1UWYrHkHVizwqBNa",
      "include_colab_link": true
    },
    "kernelspec": {
      "name": "python3",
      "display_name": "Python 3"
    },
    "language_info": {
      "name": "python"
    }
  },
  "cells": [
    {
      "cell_type": "markdown",
      "metadata": {
        "id": "view-in-github",
        "colab_type": "text"
      },
      "source": [
        "<a href=\"https://colab.research.google.com/github/ollie-sr/Africa-Data-School-Curriculum/blob/main/PANDAS0.ipynb\" target=\"_parent\"><img src=\"https://colab.research.google.com/assets/colab-badge.svg\" alt=\"Open In Colab\"/></a>"
      ]
    },
    {
      "cell_type": "code",
      "execution_count": 1,
      "metadata": {
        "id": "_uijxQ_Y-cMf"
      },
      "outputs": [],
      "source": [
        "import numpy as np\n"
      ]
    },
    {
      "cell_type": "code",
      "source": [
        "array_1= np.array([1,2,3,4])\n",
        "print(\"1D array:\", array_1)"
      ],
      "metadata": {
        "colab": {
          "base_uri": "https://localhost:8080/"
        },
        "id": "qC2YH02r-oh4",
        "outputId": "4407b02a-32f6-4e59-e9e1-3a628f50c9d2"
      },
      "execution_count": 3,
      "outputs": [
        {
          "output_type": "stream",
          "name": "stdout",
          "text": [
            "1D array: [1 2 3 4]\n"
          ]
        }
      ]
    },
    {
      "cell_type": "code",
      "source": [
        "reshaped_array= array_1.reshape(4,1)"
      ],
      "metadata": {
        "id": "zqV5EUJbGnSp"
      },
      "execution_count": 31,
      "outputs": []
    },
    {
      "cell_type": "code",
      "source": [
        "print('Reshaped array\\n', reshaped_array)"
      ],
      "metadata": {
        "colab": {
          "base_uri": "https://localhost:8080/"
        },
        "id": "301t-U3XGnWo",
        "outputId": "47d0c40d-e86e-4647-afc3-e2966ef6f968"
      },
      "execution_count": 37,
      "outputs": [
        {
          "output_type": "stream",
          "name": "stdout",
          "text": [
            "Reshaped array\n",
            " [[1]\n",
            " [2]\n",
            " [3]\n",
            " [4]]\n"
          ]
        }
      ]
    },
    {
      "cell_type": "code",
      "source": [
        "flattened_array= reshaped_array.flatten()"
      ],
      "metadata": {
        "id": "DjrLl0aPHj89"
      },
      "execution_count": 43,
      "outputs": []
    },
    {
      "cell_type": "code",
      "source": [
        "print('flattened array\\n', flattened_array)"
      ],
      "metadata": {
        "colab": {
          "base_uri": "https://localhost:8080/"
        },
        "id": "9RF7twW6HkAy",
        "outputId": "b82a8103-8f29-48fc-85e1-4da223723033"
      },
      "execution_count": 44,
      "outputs": [
        {
          "output_type": "stream",
          "name": "stdout",
          "text": [
            "flattened array\n",
            " [1 2 3 4]\n"
          ]
        }
      ]
    },
    {
      "cell_type": "code",
      "source": [
        "array_1[2]"
      ],
      "metadata": {
        "colab": {
          "base_uri": "https://localhost:8080/"
        },
        "id": "__cBmxmPChue",
        "outputId": "4e54d3a3-0a6b-4ecb-eeab-f458c1cd2a7c"
      },
      "execution_count": 14,
      "outputs": [
        {
          "output_type": "execute_result",
          "data": {
            "text/plain": [
              "3"
            ]
          },
          "metadata": {},
          "execution_count": 14
        }
      ]
    },
    {
      "cell_type": "code",
      "source": [
        "array_1[-1]"
      ],
      "metadata": {
        "colab": {
          "base_uri": "https://localhost:8080/"
        },
        "id": "UxfCIHBhCudW",
        "outputId": "8d56c0db-1470-48c3-d4c3-65f4b365d1e1"
      },
      "execution_count": 15,
      "outputs": [
        {
          "output_type": "execute_result",
          "data": {
            "text/plain": [
              "4"
            ]
          },
          "metadata": {},
          "execution_count": 15
        }
      ]
    },
    {
      "cell_type": "code",
      "source": [
        "array_1[1:3]"
      ],
      "metadata": {
        "colab": {
          "base_uri": "https://localhost:8080/"
        },
        "id": "C5mlcMNmC2U-",
        "outputId": "ba68e5e3-2280-4765-90f2-9bf0c2fa3502"
      },
      "execution_count": 17,
      "outputs": [
        {
          "output_type": "execute_result",
          "data": {
            "text/plain": [
              "array([2, 3])"
            ]
          },
          "metadata": {},
          "execution_count": 17
        }
      ]
    },
    {
      "cell_type": "code",
      "source": [],
      "metadata": {
        "id": "2CMMWM0pC2h2"
      },
      "execution_count": null,
      "outputs": []
    },
    {
      "cell_type": "code",
      "source": [
        "array_2d= np.array([[1,2,3],[4,5,6],[7,8,9]])\n",
        "print( array_2d)"
      ],
      "metadata": {
        "colab": {
          "base_uri": "https://localhost:8080/"
        },
        "id": "i7VWStpN-p6m",
        "outputId": "b225f6a8-72fc-4135-fee2-5abb447313d7"
      },
      "execution_count": 7,
      "outputs": [
        {
          "output_type": "stream",
          "name": "stdout",
          "text": [
            "[[1 2 3]\n",
            " [4 5 6]\n",
            " [7 8 9]]\n"
          ]
        }
      ]
    },
    {
      "cell_type": "code",
      "source": [
        "flattened_array_2= array_2d.flatten()"
      ],
      "metadata": {
        "id": "pK0i8GFFISjX"
      },
      "execution_count": 46,
      "outputs": []
    },
    {
      "cell_type": "code",
      "source": [
        "print(flattened_array_2)"
      ],
      "metadata": {
        "colab": {
          "base_uri": "https://localhost:8080/"
        },
        "id": "x7NDqlLIIS6Q",
        "outputId": "95494b67-5d48-484e-c67e-b4bcd35ff431"
      },
      "execution_count": 47,
      "outputs": [
        {
          "output_type": "stream",
          "name": "stdout",
          "text": [
            "[1 2 3 4 5 6 7 8 9]\n"
          ]
        }
      ]
    },
    {
      "cell_type": "code",
      "source": [
        "array_2d[0]"
      ],
      "metadata": {
        "colab": {
          "base_uri": "https://localhost:8080/"
        },
        "id": "pKaIzu89DZuP",
        "outputId": "e76bfe92-992f-4ab5-bcc1-36563c5a7e1e"
      },
      "execution_count": 18,
      "outputs": [
        {
          "output_type": "execute_result",
          "data": {
            "text/plain": [
              "array([1, 2, 3])"
            ]
          },
          "metadata": {},
          "execution_count": 18
        }
      ]
    },
    {
      "cell_type": "code",
      "source": [
        "array_2d[0:2,2:]"
      ],
      "metadata": {
        "colab": {
          "base_uri": "https://localhost:8080/"
        },
        "id": "EK3hU0A5DZ6F",
        "outputId": "a37c3f76-6c83-46f0-8c7f-3934d89428cd"
      },
      "execution_count": 28,
      "outputs": [
        {
          "output_type": "execute_result",
          "data": {
            "text/plain": [
              "array([[3],\n",
              "       [6]])"
            ]
          },
          "metadata": {},
          "execution_count": 28
        }
      ]
    },
    {
      "cell_type": "code",
      "source": [
        "array_2d[2][0]"
      ],
      "metadata": {
        "colab": {
          "base_uri": "https://localhost:8080/"
        },
        "id": "YQze-TVsF_lX",
        "outputId": "c74615be-4079-4c16-85a1-e8df7c326c94"
      },
      "execution_count": 29,
      "outputs": [
        {
          "output_type": "execute_result",
          "data": {
            "text/plain": [
              "7"
            ]
          },
          "metadata": {},
          "execution_count": 29
        }
      ]
    },
    {
      "cell_type": "code",
      "source": [
        "array_3D= np.array([[[1,2]],[[3,4]],[[5,6]]])\n",
        "print(array_3D)"
      ],
      "metadata": {
        "colab": {
          "base_uri": "https://localhost:8080/"
        },
        "id": "qs75qgek-p-L",
        "outputId": "3a97119e-0f02-41eb-a195-71c341b6138b"
      },
      "execution_count": 9,
      "outputs": [
        {
          "output_type": "stream",
          "name": "stdout",
          "text": [
            "[[[1 2]]\n",
            "\n",
            " [[3 4]]\n",
            "\n",
            " [[5 6]]]\n"
          ]
        }
      ]
    },
    {
      "cell_type": "code",
      "source": [
        "flattened_array_3= array_3D.flatten(\"k\")"
      ],
      "metadata": {
        "id": "Z11jAkBnIlm6"
      },
      "execution_count": 56,
      "outputs": []
    },
    {
      "cell_type": "code",
      "source": [
        "print(flattened_array_3)"
      ],
      "metadata": {
        "colab": {
          "base_uri": "https://localhost:8080/"
        },
        "id": "XoeC6itNIuiu",
        "outputId": "3e7c47ab-2361-4917-8f80-ee67af4b8755"
      },
      "execution_count": 57,
      "outputs": [
        {
          "output_type": "stream",
          "name": "stdout",
          "text": [
            "[1 2 3 4 5 6]\n"
          ]
        }
      ]
    },
    {
      "cell_type": "code",
      "source": [
        "reshaped_array_3= array_3D.reshape(6,1)"
      ],
      "metadata": {
        "id": "2pijppQmJYer"
      },
      "execution_count": 64,
      "outputs": []
    },
    {
      "cell_type": "code",
      "source": [
        "print(reshaped_array_3)"
      ],
      "metadata": {
        "colab": {
          "base_uri": "https://localhost:8080/"
        },
        "id": "swFucCtmJYiZ",
        "outputId": "30f205bb-de13-4d1d-cacc-26fb4178faf2"
      },
      "execution_count": 65,
      "outputs": [
        {
          "output_type": "stream",
          "name": "stdout",
          "text": [
            "[[1]\n",
            " [2]\n",
            " [3]\n",
            " [4]\n",
            " [5]\n",
            " [6]]\n"
          ]
        }
      ]
    },
    {
      "cell_type": "code",
      "source": [
        "array_1.shape"
      ],
      "metadata": {
        "colab": {
          "base_uri": "https://localhost:8080/"
        },
        "id": "SKSZe2qoA2bF",
        "outputId": "812f3ca5-c206-4e89-8168-4853b4535fb5"
      },
      "execution_count": 10,
      "outputs": [
        {
          "output_type": "execute_result",
          "data": {
            "text/plain": [
              "(4,)"
            ]
          },
          "metadata": {},
          "execution_count": 10
        }
      ]
    },
    {
      "cell_type": "code",
      "source": [
        "print(array_1.shape,array_2d.shape,array_3D.shape)"
      ],
      "metadata": {
        "colab": {
          "base_uri": "https://localhost:8080/"
        },
        "id": "rn2groe9A2ry",
        "outputId": "92276da1-c016-48cc-921e-d1d58eaeaa33"
      },
      "execution_count": 11,
      "outputs": [
        {
          "output_type": "stream",
          "name": "stdout",
          "text": [
            "(4,) (3, 3) (3, 1, 2)\n"
          ]
        }
      ]
    },
    {
      "cell_type": "code",
      "source": [
        "print(array_1.size)\n",
        "print(array_2d.size)\n",
        "print(array_3D.size)"
      ],
      "metadata": {
        "colab": {
          "base_uri": "https://localhost:8080/"
        },
        "id": "brWOep1kBWVw",
        "outputId": "dc75e364-1dcd-4a26-ab02-cbf5aa392c2a"
      },
      "execution_count": 13,
      "outputs": [
        {
          "output_type": "stream",
          "name": "stdout",
          "text": [
            "4\n",
            "9\n",
            "6\n"
          ]
        }
      ]
    },
    {
      "cell_type": "code",
      "source": [
        "import numpy as np\n",
        "u= np.array([1,2,3,4])\n",
        "t= np.array([6,7,8,9])"
      ],
      "metadata": {
        "id": "NIaZtCeVBWY5"
      },
      "execution_count": 9,
      "outputs": []
    },
    {
      "cell_type": "code",
      "source": [
        "\n",
        "multiply= u*t\n",
        "print('product:', multiply)"
      ],
      "metadata": {
        "colab": {
          "base_uri": "https://localhost:8080/"
        },
        "id": "QLmlklLtBWbx",
        "outputId": "f1968335-b741-4bfb-d558-4cc95c855c51"
      },
      "execution_count": 11,
      "outputs": [
        {
          "output_type": "stream",
          "name": "stdout",
          "text": [
            "product: [ 6 14 24 36]\n"
          ]
        }
      ]
    },
    {
      "cell_type": "code",
      "source": [
        "\n",
        "subtraction=u-t\n",
        "print('difference:\\n', subtraction)\n"
      ],
      "metadata": {
        "colab": {
          "base_uri": "https://localhost:8080/"
        },
        "id": "q9h8Usf3FVOg",
        "outputId": "2e530b95-b3bf-4063-cee9-61adba36e8d8"
      },
      "execution_count": 13,
      "outputs": [
        {
          "output_type": "stream",
          "name": "stdout",
          "text": [
            "difference:\n",
            " [-5 -5 -5 -5]\n"
          ]
        }
      ]
    },
    {
      "cell_type": "code",
      "source": [
        "tres=np.array(multiply)\n",
        "mean= np.(multiply)\n",
        "print(mean)"
      ],
      "metadata": {
        "colab": {
          "base_uri": "https://localhost:8080/"
        },
        "id": "D9T6jL7JFVS4",
        "outputId": "b4a03062-23bb-4eaa-91aa-355b096af657"
      },
      "execution_count": 18,
      "outputs": [
        {
          "output_type": "stream",
          "name": "stdout",
          "text": [
            "19.0\n"
          ]
        }
      ]
    },
    {
      "cell_type": "code",
      "source": [
        "uno_1= np.array([[1,2,3],[3,4,5],[6,7,8]])\n",
        "des_2= np.array([10,11,12])"
      ],
      "metadata": {
        "id": "HyRe9Wp7FVYU"
      },
      "execution_count": 22,
      "outputs": []
    },
    {
      "cell_type": "code",
      "source": [
        "broadcasted_sum= (uno_1+des_2)\n",
        "print(broadcasted_sum)"
      ],
      "metadata": {
        "colab": {
          "base_uri": "https://localhost:8080/"
        },
        "id": "ZgxvxFd0FVa8",
        "outputId": "233168e0-d93a-4a8e-a5e5-c5036315cc65"
      },
      "execution_count": 26,
      "outputs": [
        {
          "output_type": "stream",
          "name": "stdout",
          "text": [
            "[[11 13 15]\n",
            " [13 15 17]\n",
            " [16 18 20]]\n"
          ]
        }
      ]
    },
    {
      "cell_type": "code",
      "source": [
        "z= np.array([4,9,16])\n",
        "sin= np.sin(z)\n",
        "print(square_root)"
      ],
      "metadata": {
        "colab": {
          "base_uri": "https://localhost:8080/"
        },
        "id": "p5E47Po7A23z",
        "outputId": "07f31c5b-d44b-488a-9aec-167e554f5714"
      },
      "execution_count": 27,
      "outputs": [
        {
          "output_type": "stream",
          "name": "stdout",
          "text": [
            "[-0.7568025   0.41211849 -0.28790332]\n"
          ]
        }
      ]
    },
    {
      "cell_type": "code",
      "source": [
        "square_array= np.sqrt(z)\n",
        "print(square_array)"
      ],
      "metadata": {
        "colab": {
          "base_uri": "https://localhost:8080/"
        },
        "id": "R5Zah06XA3EN",
        "outputId": "325f506c-ffb7-4b5b-a835-0f1efa478457"
      },
      "execution_count": 28,
      "outputs": [
        {
          "output_type": "stream",
          "name": "stdout",
          "text": [
            "[2. 3. 4.]\n"
          ]
        }
      ]
    },
    {
      "cell_type": "code",
      "source": [
        "data= np.array([278,4773,373778,37237783,32723774,2373784,2328238])\n",
        "print(data)"
      ],
      "metadata": {
        "colab": {
          "base_uri": "https://localhost:8080/"
        },
        "id": "HTaXu9-CNTBy",
        "outputId": "29ce39f9-4293-4423-ec69-9d44e7bbc53a"
      },
      "execution_count": 29,
      "outputs": [
        {
          "output_type": "stream",
          "name": "stdout",
          "text": [
            "[     278     4773   373778 37237783 32723774  2373784  2328238]\n"
          ]
        }
      ]
    },
    {
      "cell_type": "code",
      "source": [
        "mean= print(np.mean(data))"
      ],
      "metadata": {
        "colab": {
          "base_uri": "https://localhost:8080/"
        },
        "id": "AsS02OpDNTFN",
        "outputId": "8d8e052a-79e6-4e2b-e468-dbcedc25df62"
      },
      "execution_count": 30,
      "outputs": [
        {
          "output_type": "stream",
          "name": "stdout",
          "text": [
            "10720344.0\n"
          ]
        }
      ]
    },
    {
      "cell_type": "code",
      "source": [
        "median= print(np.median(data))"
      ],
      "metadata": {
        "colab": {
          "base_uri": "https://localhost:8080/"
        },
        "id": "7OKpsAnINTJD",
        "outputId": "ce6a97a1-650e-4af2-9872-ced99ddbe802"
      },
      "execution_count": 31,
      "outputs": [
        {
          "output_type": "stream",
          "name": "stdout",
          "text": [
            "2328238.0\n"
          ]
        }
      ]
    },
    {
      "cell_type": "code",
      "source": [
        "max= print(np.max(data))"
      ],
      "metadata": {
        "colab": {
          "base_uri": "https://localhost:8080/"
        },
        "id": "nrZ6nvO4NTMN",
        "outputId": "f962bfdd-cc91-4082-9128-ffb564cd3ed2"
      },
      "execution_count": 32,
      "outputs": [
        {
          "output_type": "stream",
          "name": "stdout",
          "text": [
            "37237783\n"
          ]
        }
      ]
    },
    {
      "cell_type": "code",
      "source": [
        "min= print(np.min(data))"
      ],
      "metadata": {
        "colab": {
          "base_uri": "https://localhost:8080/"
        },
        "id": "pHzpsV-JNTPN",
        "outputId": "f4b0d6fb-5578-42d7-bbac-c3984946c812"
      },
      "execution_count": 33,
      "outputs": [
        {
          "output_type": "stream",
          "name": "stdout",
          "text": [
            "278\n"
          ]
        }
      ]
    },
    {
      "cell_type": "code",
      "source": [
        "argz= print(np.argmax(data))"
      ],
      "metadata": {
        "colab": {
          "base_uri": "https://localhost:8080/"
        },
        "id": "aDckYOc5NTSN",
        "outputId": "c8e0f364-cb23-404c-c7b6-0f9ceef9598d"
      },
      "execution_count": 34,
      "outputs": [
        {
          "output_type": "stream",
          "name": "stdout",
          "text": [
            "3\n"
          ]
        }
      ]
    },
    {
      "cell_type": "code",
      "source": [
        "pos_min= print(np.argmin(data))"
      ],
      "metadata": {
        "colab": {
          "base_uri": "https://localhost:8080/"
        },
        "id": "04ewd6BZNTVf",
        "outputId": "97a85179-e569-487d-988c-c522bd5e6914"
      },
      "execution_count": 35,
      "outputs": [
        {
          "output_type": "stream",
          "name": "stdout",
          "text": [
            "0\n"
          ]
        }
      ]
    },
    {
      "cell_type": "code",
      "source": [
        "difference= (np.max(data))+(np.min(data))\n",
        "print(difference)"
      ],
      "metadata": {
        "colab": {
          "base_uri": "https://localhost:8080/"
        },
        "id": "mbakxPOVNTZY",
        "outputId": "387c919f-fc4e-4b24-9df4-bd6590f61edf"
      },
      "execution_count": 39,
      "outputs": [
        {
          "output_type": "stream",
          "name": "stdout",
          "text": [
            "37238061\n"
          ]
        }
      ]
    },
    {
      "cell_type": "code",
      "source": [
        "from scipy import stats"
      ],
      "metadata": {
        "id": "jyIhPpKcZqIB"
      },
      "execution_count": 41,
      "outputs": []
    },
    {
      "cell_type": "code",
      "source": [
        "mode= stats.mode(data)\n",
        "print(mode)"
      ],
      "metadata": {
        "colab": {
          "base_uri": "https://localhost:8080/"
        },
        "id": "YIFjVCAiZqTO",
        "outputId": "b1dc02c7-5c38-48e0-fcb7-538b387b9426"
      },
      "execution_count": 42,
      "outputs": [
        {
          "output_type": "stream",
          "name": "stdout",
          "text": [
            "ModeResult(mode=278, count=1)\n"
          ]
        }
      ]
    },
    {
      "cell_type": "code",
      "source": [
        "variance= np.var(data)\n",
        "print (variance)"
      ],
      "metadata": {
        "colab": {
          "base_uri": "https://localhost:8080/"
        },
        "id": "4xa6F5xbZqWL",
        "outputId": "4a7d50e9-41a0-4895-da60-2ccfa11e90af"
      },
      "execution_count": 43,
      "outputs": [
        {
          "output_type": "stream",
          "name": "stdout",
          "text": [
            "237744673532172.84\n"
          ]
        }
      ]
    },
    {
      "cell_type": "code",
      "source": [
        "deviation= np.std(data)\n",
        "print(deviation)"
      ],
      "metadata": {
        "colab": {
          "base_uri": "https://localhost:8080/"
        },
        "id": "5oowN8GFabDI",
        "outputId": "0da1af40-da74-4466-cc11-511291340b24"
      },
      "execution_count": 44,
      "outputs": [
        {
          "output_type": "stream",
          "name": "stdout",
          "text": [
            "15418971.221588451\n"
          ]
        }
      ]
    },
    {
      "cell_type": "code",
      "source": [
        "uniform_random= np.random.rand(9)\n",
        "print(uniform_random)"
      ],
      "metadata": {
        "colab": {
          "base_uri": "https://localhost:8080/"
        },
        "id": "VqsLKhrGabHK",
        "outputId": "074d1d0e-7522-4361-efb3-f29e62be5cf2"
      },
      "execution_count": 49,
      "outputs": [
        {
          "output_type": "stream",
          "name": "stdout",
          "text": [
            "[0.32468185 0.5135921  0.9928181  0.53903321 0.46475647 0.98020294\n",
            " 0.33555787 0.68925487 0.65963205]\n"
          ]
        }
      ]
    },
    {
      "cell_type": "code",
      "source": [
        "array_s= np.array(uniform_random)\n",
        "print(array_s)"
      ],
      "metadata": {
        "colab": {
          "base_uri": "https://localhost:8080/"
        },
        "id": "ACj5hKwlabKN",
        "outputId": "9fe49377-e57b-4bea-e4ed-c777561da700"
      },
      "execution_count": 50,
      "outputs": [
        {
          "output_type": "stream",
          "name": "stdout",
          "text": [
            "[0.32468185 0.5135921  0.9928181  0.53903321 0.46475647 0.98020294\n",
            " 0.33555787 0.68925487 0.65963205]\n"
          ]
        }
      ]
    },
    {
      "cell_type": "code",
      "source": [
        "array_uniform= np.random.uniform (9,10, size=5)\n",
        "print(array_uniform)"
      ],
      "metadata": {
        "colab": {
          "base_uri": "https://localhost:8080/"
        },
        "id": "enKT7ShmabM7",
        "outputId": "5823094b-b258-4f66-8c58-0607b74ced2f"
      },
      "execution_count": 55,
      "outputs": [
        {
          "output_type": "stream",
          "name": "stdout",
          "text": [
            "[9.2909192  9.40219889 9.42539372 9.95237013 9.69564386]\n"
          ]
        }
      ]
    },
    {
      "cell_type": "code",
      "source": [
        "np.random.seed(42)\n",
        "array_f= np.random.normal(1,100,size=100)\n",
        "print(array_f)"
      ],
      "metadata": {
        "colab": {
          "base_uri": "https://localhost:8080/"
        },
        "id": "zFsquT5kZqZ1",
        "outputId": "0cdb856a-2939-4de1-f90c-0083fd104989"
      },
      "execution_count": 61,
      "outputs": [
        {
          "output_type": "stream",
          "name": "stdout",
          "text": [
            "[  50.6714153   -12.82643012   65.76885381  153.30298564  -22.41533747\n",
            "  -22.41369569  158.92128155   77.74347292  -45.94743859   55.25600436\n",
            "  -45.34176928  -45.57297536   25.19622716 -190.32802447 -171.49178325\n",
            "  -55.22875292 -100.28311203   32.42473326  -89.80240755 -140.23037013\n",
            "  147.56487689  -21.57763005    7.75282047 -141.47481862  -53.43827245\n",
            "   12.09225897 -114.09935774   38.56980183  -59.06386899  -28.16937498\n",
            "  -59.17066122  186.22781845   -0.34972247 -104.7710929    83.25449121\n",
            " -121.084365     21.8863595  -194.96701239 -131.81860489   20.68612359\n",
            "   74.846658     18.13682812  -10.56482824  -29.11036956 -146.85219904\n",
            "  -70.98442084  -45.0638771   106.71222262   35.36182896 -175.30401554\n",
            "   33.40839694  -37.50822804  -66.69220003   62.16762888  104.09995225\n",
            "   94.12801191  -82.92175232  -29.92123759   34.12634314   98.55451271\n",
            "  -46.91742378  -17.56589767 -109.6334974  -118.62066241   82.25258224\n",
            "  136.62400286   -6.20101216  101.35328979   37.1636025   -63.51197546\n",
            "   37.13956055  154.80365665   -2.58260391  157.46436558 -260.97451041\n",
            "   83.19025044    9.70470682  -28.90073505   10.17607765 -197.75689146\n",
            "  -20.96718878   36.71125715  148.78940447  -50.82702183  -79.84936029\n",
            "  -49.17570436   92.54021177   33.87511097  -51.97602038   52.32674331\n",
            "   10.70775493   97.86449905  -69.20530939  -31.76621466  -38.21081531\n",
            " -145.35149481   30.61202771   27.10552722    1.51134566  -22.45871334]\n"
          ]
        }
      ]
    },
    {
      "cell_type": "code",
      "source": [
        "sample_without_replace= np.random.choice(array_f,10, replace= False)\n",
        "print(sample_without_replace)"
      ],
      "metadata": {
        "colab": {
          "base_uri": "https://localhost:8080/"
        },
        "id": "9SN2uUfRZqdL",
        "outputId": "2ded0cf5-0846-4cd1-bf42-be7ff78dbacf"
      },
      "execution_count": 74,
      "outputs": [
        {
          "output_type": "stream",
          "name": "stdout",
          "text": [
            "[ 10.17607765  37.1636025  -37.50822804  -2.58260391 -50.82702183\n",
            "  20.68612359 -69.20530939 158.92128155 106.71222262  35.36182896]\n"
          ]
        }
      ]
    },
    {
      "cell_type": "code",
      "source": [
        "sample_with_replacement= np.random.choice(array_f, 10, replace=True)\n",
        "print(sample_with_replacement)"
      ],
      "metadata": {
        "colab": {
          "base_uri": "https://localhost:8080/"
        },
        "id": "RLqaOitLgCKF",
        "outputId": "2804936b-3c1e-42b3-d94f-7bbbd786030d"
      },
      "execution_count": 70,
      "outputs": [
        {
          "output_type": "stream",
          "name": "stdout",
          "text": [
            "[-190.32802447  147.56487689  106.71222262 -140.23037013   77.74347292\n",
            "  158.92128155   -6.20101216 -100.28311203   -0.34972247  106.71222262]\n"
          ]
        }
      ]
    },
    {
      "cell_type": "code",
      "source": [
        "[-121.084365   -194.96701239  -50.82702183    1.51134566  -51.97602038\n",
        "    1.51134566  -53.43827245  -69.20530939   32.42473326   36.71125715]"
      ],
      "metadata": {
        "id": "5uj_Wvq3gCNi"
      },
      "execution_count": null,
      "outputs": []
    },
    {
      "cell_type": "code",
      "source": [
        "[ -59.17066122  -82.92175232 -190.32802447   18.13682812   77.74347292\n",
        "  147.56487689   27.10552722  153.30298564   35.36182896 -171.49178325]\n"
      ],
      "metadata": {
        "id": "m-SbSiyygCQ7"
      },
      "execution_count": null,
      "outputs": []
    },
    {
      "cell_type": "code",
      "source": [
        "print(array_f)\n",
        "array_f.size"
      ],
      "metadata": {
        "colab": {
          "base_uri": "https://localhost:8080/"
        },
        "id": "rcgyOQ9ygCT8",
        "outputId": "1959ad2e-da47-4321-f68d-babe80e7790b"
      },
      "execution_count": 76,
      "outputs": [
        {
          "output_type": "stream",
          "name": "stdout",
          "text": [
            "[  50.6714153   -12.82643012   65.76885381  153.30298564  -22.41533747\n",
            "  -22.41369569  158.92128155   77.74347292  -45.94743859   55.25600436\n",
            "  -45.34176928  -45.57297536   25.19622716 -190.32802447 -171.49178325\n",
            "  -55.22875292 -100.28311203   32.42473326  -89.80240755 -140.23037013\n",
            "  147.56487689  -21.57763005    7.75282047 -141.47481862  -53.43827245\n",
            "   12.09225897 -114.09935774   38.56980183  -59.06386899  -28.16937498\n",
            "  -59.17066122  186.22781845   -0.34972247 -104.7710929    83.25449121\n",
            " -121.084365     21.8863595  -194.96701239 -131.81860489   20.68612359\n",
            "   74.846658     18.13682812  -10.56482824  -29.11036956 -146.85219904\n",
            "  -70.98442084  -45.0638771   106.71222262   35.36182896 -175.30401554\n",
            "   33.40839694  -37.50822804  -66.69220003   62.16762888  104.09995225\n",
            "   94.12801191  -82.92175232  -29.92123759   34.12634314   98.55451271\n",
            "  -46.91742378  -17.56589767 -109.6334974  -118.62066241   82.25258224\n",
            "  136.62400286   -6.20101216  101.35328979   37.1636025   -63.51197546\n",
            "   37.13956055  154.80365665   -2.58260391  157.46436558 -260.97451041\n",
            "   83.19025044    9.70470682  -28.90073505   10.17607765 -197.75689146\n",
            "  -20.96718878   36.71125715  148.78940447  -50.82702183  -79.84936029\n",
            "  -49.17570436   92.54021177   33.87511097  -51.97602038   52.32674331\n",
            "   10.70775493   97.86449905  -69.20530939  -31.76621466  -38.21081531\n",
            " -145.35149481   30.61202771   27.10552722    1.51134566  -22.45871334]\n"
          ]
        },
        {
          "output_type": "execute_result",
          "data": {
            "text/plain": [
              "100"
            ]
          },
          "metadata": {},
          "execution_count": 76
        }
      ]
    },
    {
      "cell_type": "code",
      "source": [
        " heights = np.array([160, 155, 172, 165, 180, 158, 175, 163, 171, 168])"
      ],
      "metadata": {
        "id": "VGS5M9KzgC3K"
      },
      "execution_count": 77,
      "outputs": []
    },
    {
      "cell_type": "code",
      "source": [
        "mean_students_height= np.mean(heights)\n",
        "print('mean height is:',mean_students_height)"
      ],
      "metadata": {
        "colab": {
          "base_uri": "https://localhost:8080/"
        },
        "id": "EN746Q0thkN2",
        "outputId": "7bca9d1b-2e68-461b-ca7f-dd39c8f61249"
      },
      "execution_count": 81,
      "outputs": [
        {
          "output_type": "stream",
          "name": "stdout",
          "text": [
            "mean height is: 166.7\n"
          ]
        }
      ]
    },
    {
      "cell_type": "code",
      "source": [
        "median_students_height= np.median(heights)\n",
        "print('median height is:', median_students_height)"
      ],
      "metadata": {
        "colab": {
          "base_uri": "https://localhost:8080/"
        },
        "id": "32Nr4UsZhkRY",
        "outputId": "f645cf6c-b5bf-4999-9472-0d51aba15975"
      },
      "execution_count": 80,
      "outputs": [
        {
          "output_type": "stream",
          "name": "stdout",
          "text": [
            "median height is: 166.5\n"
          ]
        }
      ]
    },
    {
      "cell_type": "code",
      "source": [
        "STD_DEV_Height= np.std(heights)\n",
        "print('standard deviation in heights is:', STD_DEV_Height)"
      ],
      "metadata": {
        "colab": {
          "base_uri": "https://localhost:8080/"
        },
        "id": "v1jPh-EghkV8",
        "outputId": "b40f7caf-c7fb-4249-f66a-e50f2887dc89"
      },
      "execution_count": 82,
      "outputs": [
        {
          "output_type": "stream",
          "name": "stdout",
          "text": [
            "standard deviation in heights is: 7.5372408744845085\n"
          ]
        }
      ]
    },
    {
      "cell_type": "code",
      "source": [
        "normalized_heights= ((heights-mean_students_height)/STD_DEV_Height)\n",
        "print('normalized height is:', normalized_heights)"
      ],
      "metadata": {
        "colab": {
          "base_uri": "https://localhost:8080/"
        },
        "id": "5vLyaudthkai",
        "outputId": "21377561-2b6e-49e2-c83a-69b785fa1500"
      },
      "execution_count": 84,
      "outputs": [
        {
          "output_type": "stream",
          "name": "stdout",
          "text": [
            "normalized height is: [-0.88891945 -1.55229217  0.70317509 -0.22554673  1.76457144 -1.15426854\n",
            "  1.10119872 -0.49089581  0.57050054  0.17247691]\n"
          ]
        }
      ]
    },
    {
      "cell_type": "code",
      "source": [
        "Tallest=np.argmax(heights)\n",
        "shortest=np.argmin(heights)\n",
        "\n",
        "print(f'the tallest student is: {Tallest} while the shortest student is: {shortest}')"
      ],
      "metadata": {
        "colab": {
          "base_uri": "https://localhost:8080/"
        },
        "id": "sNz4q2b4hkeH",
        "outputId": "0a2dd496-456b-4159-cdd0-bc8ba1629a8b"
      },
      "execution_count": 92,
      "outputs": [
        {
          "output_type": "stream",
          "name": "stdout",
          "text": [
            "the tallest student is: 4 while the shortest student is: 1\n"
          ]
        }
      ]
    },
    {
      "cell_type": "code",
      "source": [
        "tallest_height= np.max(heights)\n",
        "shortest_height= np.min(heights)\n",
        "height_diff= tallest_height - shortest_height\n",
        "print(f'the difference in height between the tallest and the shortest student in  is: {height_diff} cm')"
      ],
      "metadata": {
        "colab": {
          "base_uri": "https://localhost:8080/"
        },
        "id": "Oj9CGJ82hkk-",
        "outputId": "5e894ccf-1c30-46c0-e776-37c6e650586e"
      },
      "execution_count": 91,
      "outputs": [
        {
          "output_type": "stream",
          "name": "stdout",
          "text": [
            "the difference in height between the tallest and the shortest student in  is: 25 cm\n"
          ]
        }
      ]
    },
    {
      "cell_type": "code",
      "source": [
        "from os import replace\n",
        "np.random.seed(42)\n",
        "select_random_heights= np.random.choice(heights,5, replace=False)\n",
        "print(select_random_heights)"
      ],
      "metadata": {
        "colab": {
          "base_uri": "https://localhost:8080/"
        },
        "id": "KtqgMylAhkqs",
        "outputId": "2cf94fdd-f639-4e5e-a8f1-3e2d73dac806"
      },
      "execution_count": 100,
      "outputs": [
        {
          "output_type": "stream",
          "name": "stdout",
          "text": [
            "[171 155 158 160 163]\n"
          ]
        }
      ]
    },
    {
      "cell_type": "code",
      "source": [],
      "metadata": {
        "id": "5wmKDDIphkvK"
      },
      "execution_count": null,
      "outputs": []
    },
    {
      "cell_type": "code",
      "source": [],
      "metadata": {
        "id": "Mbq1MyGFhkzU"
      },
      "execution_count": null,
      "outputs": []
    },
    {
      "cell_type": "code",
      "source": [],
      "metadata": {
        "id": "j7k6LecWhk_K"
      },
      "execution_count": null,
      "outputs": []
    },
    {
      "cell_type": "code",
      "source": [],
      "metadata": {
        "id": "Nn-z4EPzhlD3"
      },
      "execution_count": null,
      "outputs": []
    }
  ]
}